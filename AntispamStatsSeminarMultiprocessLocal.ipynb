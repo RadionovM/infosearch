{
 "cells": [
  {
   "cell_type": "markdown",
   "metadata": {},
   "source": [
    "# ** Описание **"
   ]
  },
  {
   "cell_type": "raw",
   "metadata": {},
   "source": [
    "Построить графики распределения в спам и не спам множествах следующих признаков:\n",
    "\n",
    "1\tКоличество слов на странице\n",
    "2\tСредняя длинна слова\n",
    "3\tКоличество слов в заголовке страниц (слова в теге <html><head><title> Some text </title>)\n",
    "4\tКоличество слов в анкорах ссылок (<html><body><a> Some text </a>)\n",
    "5\tКоэффициент сжатия\n",
    "\n",
    "Нужно посчитать статистику минимум по трем признакам и обязательно сделать для 1-го и 2-го признаков\n",
    "\n",
    "И отправить первое решение в соревнование https://kaggle.com/join/antispam_infopoisk\n",
    "На основании одного из указанных выше признаков попытаться разделить мн-во, так чтобы score в соревновании был больше 0.55\n",
    "\n",
    "При выполнении всех этих условия в течении семинара +1 балл к ДЗ\n",
    "\n",
    "Описание ДЗ и правил выставления за него баллов в https://inclass.kaggle.com/c/antispam-infopoisk  \n",
    "Сроки ДЗ уточнить у преподователя - обычно 2 недели"
   ]
  },
  {
   "cell_type": "code",
   "execution_count": 1,
   "metadata": {
    "ExecuteTime": {
     "end_time": "2020-10-08T15:03:10.061311Z",
     "start_time": "2020-10-08T15:03:06.379872Z"
    }
   },
   "outputs": [
    {
     "name": "stderr",
     "output_type": "stream",
     "text": [
      "Intel(R) Data Analytics Acceleration Library (Intel(R) DAAL) solvers for sklearn enabled: https://intelpython.github.io/daal4py/sklearn.html\n"
     ]
    }
   ],
   "source": [
    "from __future__ import division\n",
    "\n",
    "import base64\n",
    "import csv\n",
    "import gzip\n",
    "import zlib\n",
    "\n",
    "from bs4 import BeautifulSoup\n",
    "from collections import namedtuple\n",
    "from sklearn.metrics import f1_score\n",
    "from sklearn.metrics import make_scorer \n",
    "from sklearn.model_selection import cross_val_score\n",
    "from sklearn.ensemble import RandomForestClassifier \n",
    "from sklearn.feature_extraction.text import TfidfVectorizer\n",
    "\n",
    "import pandas as pd\n",
    "import numpy as np\n",
    "import swifter\n",
    "import pickle\n",
    "from boilerpipe.extract import Extractor\n",
    "from StringIO import StringIO  # Python 2.7\n",
    "import gzip\n",
    "from tqdm import tqdm\n",
    "\n",
    "%matplotlib inline\n",
    "import matplotlib.pyplot as plt"
   ]
  },
  {
   "cell_type": "code",
   "execution_count": 2,
   "metadata": {
    "ExecuteTime": {
     "end_time": "2020-10-08T15:03:10.070382Z",
     "start_time": "2020-10-08T15:03:10.065278Z"
    }
   },
   "outputs": [],
   "source": [
    "def save_obj(obj, name ):                                                       \n",
    "    with open(name + '.pkl', 'wb') as f:                                        \n",
    "        pickle.dump(obj, f, pickle.HIGHEST_PROTOCOL)                            \n",
    "                                                                                \n",
    "def load_obj(name ):                                                            \n",
    "    with open(name + '.pkl', 'rb') as f:                                        \n",
    "        return pickle.load(f) "
   ]
  },
  {
   "cell_type": "code",
   "execution_count": 3,
   "metadata": {
    "ExecuteTime": {
     "end_time": "2020-10-08T15:03:10.190787Z",
     "start_time": "2020-10-08T15:03:10.074857Z"
    }
   },
   "outputs": [],
   "source": [
    "TRACE_NUM = 1000\n",
    "import logging\n",
    "reload(logging)\n",
    "logging.basicConfig(format='%(asctime)s %(levelname)s:%(message)s', level=logging.INFO, datefmt='%H:%M:%S')\n",
    "\n",
    "def trace(items_num, trace_num=TRACE_NUM):\n",
    "    if items_num % trace_num == 0: logging.info(\"Complete items %05d\" % items_num)\n",
    "        \n",
    "def trace_worker(items_num, worker_id, trace_num=TRACE_NUM):\n",
    "    if items_num % trace_num == 0: logging.info(\"Complete items %05d in worker_id %d\" % (items_num, worker_id))"
   ]
  },
  {
   "cell_type": "markdown",
   "metadata": {},
   "source": [
    "### Утилиты"
   ]
  },
  {
   "cell_type": "markdown",
   "metadata": {},
   "source": [
    "#### Декораторы"
   ]
  },
  {
   "cell_type": "code",
   "execution_count": null,
   "metadata": {
    "ExecuteTime": {
     "end_time": "2020-10-07T10:20:02.119520Z",
     "start_time": "2020-10-07T10:20:02.022199Z"
    },
    "code_folding": [
     0,
     4,
     5,
     10
    ]
   },
   "outputs": [],
   "source": [
    "def to_utf8(text):\n",
    "    if isinstance(text, unicode): text = text.encode('utf8')\n",
    "    return text\n",
    "\n",
    "def convert2unicode(f):\n",
    "    def tmp(text):\n",
    "        if not isinstance(text, unicode): text = text.decode('utf8')\n",
    "        return f(text)\n",
    "    return tmp\n",
    "\n",
    "def convert2lower(f):\n",
    "    def tmp(text):        \n",
    "        return f(text.lower())\n",
    "    return tmp\n",
    "\n",
    "#P.S. Декораторы могут усложнять отладку, так что от них вполне можно отказаться и воспользоваться copy-paste"
   ]
  },
  {
   "cell_type": "markdown",
   "metadata": {},
   "source": [
    "### Извлечение текста из html"
   ]
  },
  {
   "cell_type": "code",
   "execution_count": 5,
   "metadata": {
    "ExecuteTime": {
     "end_time": "2020-10-07T10:20:02.234372Z",
     "start_time": "2020-10-07T10:20:02.150572Z"
    },
    "code_folding": [
     5,
     34,
     39,
     47,
     55
    ]
   },
   "outputs": [],
   "source": [
    "from HTMLParser import HTMLParser\n",
    "import re\n",
    "\n",
    "###Извлечение текста из title можно вписать сюда\n",
    "\n",
    "class TextHTMLParser(HTMLParser):\n",
    "    def __init__(self):\n",
    "        HTMLParser.__init__(self)\n",
    "        self._text = []\n",
    "        self._title = \"\"\n",
    "        self._in_title = False\n",
    "\n",
    "    def handle_data(self, data):\n",
    "        text = data.strip()\n",
    "        if len(text) > 0:\n",
    "            text = re.sub('[ \\t\\r\\n]+', ' ', text)\n",
    "            self._text.append(text + ' ')\n",
    "\n",
    "    def handle_starttag(self, tag, attrs):\n",
    "        if tag == 'p':\n",
    "            self._text.append('\\n\\n')\n",
    "        elif tag == 'br':\n",
    "            self._text.append('\\n')\n",
    "        elif tag == 'title':\n",
    "            self._in_title = True\n",
    "\n",
    "    def handle_startendtag(self, tag, attrs):\n",
    "        if tag == 'br':\n",
    "            self._text.append('\\n\\n')\n",
    "\n",
    "    def text(self):\n",
    "        return ''.join(self._text).strip()\n",
    "\n",
    "@convert2unicode\n",
    "def html2text_parser(text):\n",
    "    parser = TextHTMLParser()\n",
    "    parser.feed(text)\n",
    "    return parser.text()\n",
    "\n",
    "def html2text_bs(raw_html):\n",
    "    \"\"\"\n",
    "    Тут производится извлечения из html текста\n",
    "    \"\"\"\n",
    "    soup = BeautifulSoup(raw_html, \"html.parser\")\n",
    "    [s.extract() for s in soup(['script', 'style'])]\n",
    "    return soup.get_text()\n",
    "\n",
    "def html2text_bs_visible(raw_html):\n",
    "    \"\"\"\n",
    "    Тут производится извлечения из html текста, который видим пользователю\n",
    "    \"\"\"\n",
    "    soup = BeautifulSoup(raw_html, \"html.parser\")    \n",
    "    [s.extract() for s in soup(['style', 'script', '[document]', 'head', 'title'])]\n",
    "    return soup.get_text()\n",
    "\n",
    "def html2text_boilerpipe(raw_html):\n",
    "    print('before')\n",
    "    extractor = Extractor(html=raw_html)             \n",
    "    s = extractor.getText()                                             \n",
    "    s=s.replace('\\n',\" \")                                               \n",
    "    s=s.replace('\\t',\" \")                                               \n",
    "    s=s.replace('\\r',\" \")\n",
    "    print('return')\n",
    "    return s\n"
   ]
  },
  {
   "cell_type": "markdown",
   "metadata": {},
   "source": [
    "#### Выбираем какой метод для конвертации html в текст будет основным"
   ]
  },
  {
   "cell_type": "markdown",
   "metadata": {},
   "source": [
    "#### Методы для токенизации текста"
   ]
  },
  {
   "cell_type": "code",
   "execution_count": 6,
   "metadata": {
    "ExecuteTime": {
     "end_time": "2020-10-07T10:20:02.412209Z",
     "start_time": "2020-10-07T10:20:02.237191Z"
    },
    "code_folding": []
   },
   "outputs": [],
   "source": [
    "@convert2lower\n",
    "@convert2unicode\n",
    "def easy_tokenizer(text):\n",
    "    word = unicode()\n",
    "    for symbol in text:\n",
    "        if symbol.isalnum(): word += symbol\n",
    "        elif word:\n",
    "            yield word\n",
    "            word = unicode()\n",
    "    if word: yield word\n",
    "\n",
    "PYMORPHY_CACHE = {}\n",
    "MORPH = None\n",
    "#hint, чтобы установка pymorphy2 не была бы обязательной\n",
    "def get_lemmatizer():\n",
    "    import pymorphy2\n",
    "    global MORPH\n",
    "    if MORPH is None: MORPH = pymorphy2.MorphAnalyzer()\n",
    "    return MORPH\n",
    "\n",
    "import pymorphy2\n",
    "@convert2lower\n",
    "@convert2unicode\n",
    "def pymorphy_tokenizer(text):\n",
    "    global PYMORPHY_CACHE\n",
    "    for word in easy_tokenizer(text):\n",
    "        word_hash = hash(word)\n",
    "        if word_hash not in PYMORPHY_CACHE:\n",
    "            PYMORPHY_CACHE[word_hash] = get_lemmatizer().parse(word)[0].normal_form            \n",
    "        yield PYMORPHY_CACHE[word_hash]"
   ]
  },
  {
   "cell_type": "markdown",
   "metadata": {},
   "source": [
    "#### Чтение csv"
   ]
  },
  {
   "cell_type": "code",
   "execution_count": 7,
   "metadata": {
    "ExecuteTime": {
     "end_time": "2020-10-07T10:20:12.159578Z",
     "start_time": "2020-10-07T10:20:02.417144Z"
    },
    "code_folding": [],
    "scrolled": false
   },
   "outputs": [
    {
     "name": "stdout",
     "output_type": "stream",
     "text": [
      "CPU times: user 6.04 s, sys: 496 ms, total: 6.53 s\n",
      "Wall time: 9.62 s\n"
     ]
    }
   ],
   "source": [
    "%%time\n",
    "TRAIN_DATA_FILE  = 'kaggle_train_data_tab.csv.gz'\n",
    "\n",
    "train_df = pd.read_csv('kaggle_train_data_tab.csv',sep = '\\t',usecols=['Id' ,'Prediction','Url','PageBase64'])\n",
    "train_df['PageBase64']= train_df['PageBase64'].apply(lambda row: base64.b64decode(row))\n",
    "train_df.rename(columns={'PageBase64':'text', 'Prediction':'target','Url':'url','Id':'id' },inplace=True)\n",
    "train_df.set_index('id',inplace=True)\n",
    "train_df.sort_index(inplace=True)"
   ]
  },
  {
   "cell_type": "code",
   "execution_count": 8,
   "metadata": {
    "ExecuteTime": {
     "end_time": "2020-10-07T10:20:12.210280Z",
     "start_time": "2020-10-07T10:20:12.164372Z"
    },
    "code_folding": [
     0
    ]
   },
   "outputs": [],
   "source": [
    "def parse_meta(raw_html):\n",
    "    bs = BeautifulSoup(raw_html, \"html.parser\")\n",
    "    keywords = ''\n",
    "    tmp = bs.find(\"meta\", {\"name\":\"keywords\"})\n",
    "    if tmp:\n",
    "        keywords = tmp.get('content','')\n",
    "    description = ''\n",
    "    tmp = bs.find(\"meta\", {\"name\":\"description\"})\n",
    "    if tmp:\n",
    "         description = tmp.get('content','')\n",
    "    title = bs.find('title')\n",
    "    if title:\n",
    "        title = title.get_text()\n",
    "    else:\n",
    "        title = ''\n",
    "    avarage_ancor_words = 0\n",
    "    tmp = bs.findAll('a', href=True, text=True)\n",
    "    n = len(tmp)\n",
    "    if n != 0:\n",
    "        avarage_ancor_words = sum(list(\n",
    "                map(len,\n",
    "                    map(list,\n",
    "                        map(easy_tokenizer, \n",
    "                                 map(lambda x: x.get_text(), tmp))))))/n\n",
    "    return keywords, description, title, avarage_ancor_words \n",
    "\n",
    "def parse_hrefs(raw_html):\n",
    "    bs = BeautifulSoup(raw_html, \"html.parser\")\n",
    "    tmp = bs.findAll('a', href=True, text=True)\n",
    "    n = len(tmp)\n",
    "    if n == 0:\n",
    "        return 0\n",
    "    return sum(list(\n",
    "                map(len,\n",
    "                    map(list,\n",
    "                        map(easy_tokenizer, \n",
    "                                 map(lambda x: x.get_text(), tmp))))))/n\n",
    "    \n",
    "def avarage_words_len(list_of_words):\n",
    "    n = len(list_of_words)\n",
    "    if n == 0:\n",
    "        return 0\n",
    "    return sum(list(map(len,list_of_words)))/n\n",
    "\n",
    "def gzip_string(string):\n",
    "    out = StringIO()\n",
    "    with gzip.GzipFile(fileobj=out, mode=\"w\") as f:\n",
    "        f.write(string)\n",
    "    return len(string)/len(out.getvalue())"
   ]
  },
  {
   "cell_type": "markdown",
   "metadata": {},
   "source": [
    "#### Основная функция, которая вызывается для преобразования html в список слов"
   ]
  },
  {
   "cell_type": "code",
   "execution_count": 9,
   "metadata": {
    "ExecuteTime": {
     "end_time": "2020-10-07T10:20:12.324679Z",
     "start_time": "2020-10-07T10:20:12.214625Z"
    }
   },
   "outputs": [],
   "source": [
    "html2text = html2text_parser\n",
    "tokenizer = easy_tokenizer\n",
    "def html2word(raw_html, to_text=html2text, tokenizer=tokenizer):\n",
    "    return tokenizer(to_text(raw_html).lower())"
   ]
  },
  {
   "cell_type": "code",
   "execution_count": 10,
   "metadata": {
    "ExecuteTime": {
     "end_time": "2020-10-07T10:20:12.393352Z",
     "start_time": "2020-10-07T10:20:12.329387Z"
    }
   },
   "outputs": [],
   "source": [
    "def calculate_all_features_multiprocess(url, html_text):\n",
    "    global vectorizer\n",
    "    features = {}\n",
    "    words = list(html2word(html_text))\n",
    "    features['words']= len(words)\n",
    "    features['average_len_words'] = avarage_words_len(words)\n",
    "    features['gzip']= gzip_string(html_text)\n",
    "    features['url_len'] = len(list(url.split('/')))\n",
    "    \n",
    "    features['keywords'], features['description'], features['title'], features['average_ancors'] = parse_meta(html_text)\n",
    "    \n",
    "    features['title_len']= len(features['title'].split())\n",
    "    features['description_len'] = len(features['description'].split())\n",
    "    features['keywords_len'] = len(features['keywords'].split())\n",
    "    return features"
   ]
  },
  {
   "cell_type": "code",
   "execution_count": 11,
   "metadata": {
    "ExecuteTime": {
     "end_time": "2020-10-07T10:20:12.674570Z",
     "start_time": "2020-10-07T10:20:12.400113Z"
    }
   },
   "outputs": [],
   "source": [
    "from multiprocessing import Process, Queue\n",
    "\n",
    "DocItem = namedtuple('DocItem', ['doc_id', 'is_spam', 'features'])\n",
    "\n",
    "WORKER_NUM = 8\n",
    "\n",
    "def read_dataframe_worker(dataframe, calc_features_f, worker_id, res_queue):    \n",
    "    for index, row in dataframe.iterrows():\n",
    "        #trace_worker(index, worker_id)\n",
    "        if index % WORKER_NUM != worker_id: continue\n",
    "        features = calc_features_f(row['url'],row['text'])            \n",
    "        res_queue.put(DocItem(row['id'], row['target'], features))\n",
    "\n",
    "    #trace_worker(index, worker_id, 1)  \n",
    "    res_queue.put(None)\n",
    "        \n",
    "def read_data_frame_multiprocess(dataframe, calc_features_f):\n",
    "    processes = []\n",
    "    res_queue = Queue()    \n",
    "    for i in xrange(WORKER_NUM):\n",
    "        process = Process(target=read_dataframe_worker, args=(dataframe, calc_features_f, i, res_queue))\n",
    "        processes.append(process)\n",
    "        process.start()\n",
    "    \n",
    "    complete_workers = 0\n",
    "    while complete_workers != WORKER_NUM:\n",
    "        item = res_queue.get()\n",
    "        if item is None:\n",
    "            complete_workers += 1\n",
    "        else:\n",
    "            yield item\n",
    "        \n",
    "    for process in processes: process.join()"
   ]
  },
  {
   "cell_type": "code",
   "execution_count": 4,
   "metadata": {
    "ExecuteTime": {
     "end_time": "2020-10-08T14:32:45.789527Z",
     "start_time": "2020-10-08T14:32:45.378969Z"
    },
    "scrolled": true
   },
   "outputs": [
    {
     "data": {
      "text/html": [
       "<div>\n",
       "<style scoped>\n",
       "    .dataframe tbody tr th:only-of-type {\n",
       "        vertical-align: middle;\n",
       "    }\n",
       "\n",
       "    .dataframe tbody tr th {\n",
       "        vertical-align: top;\n",
       "    }\n",
       "\n",
       "    .dataframe thead th {\n",
       "        text-align: right;\n",
       "    }\n",
       "</style>\n",
       "<table border=\"1\" class=\"dataframe\">\n",
       "  <thead>\n",
       "    <tr style=\"text-align: right;\">\n",
       "      <th></th>\n",
       "      <th>words</th>\n",
       "      <th>keywords</th>\n",
       "      <th>average_len_words</th>\n",
       "      <th>gzip</th>\n",
       "      <th>url_len</th>\n",
       "      <th>description</th>\n",
       "      <th>title</th>\n",
       "      <th>title_len</th>\n",
       "      <th>description_len</th>\n",
       "      <th>keywords_len</th>\n",
       "      <th>average_ancors</th>\n",
       "      <th>target</th>\n",
       "    </tr>\n",
       "    <tr>\n",
       "      <th>id</th>\n",
       "      <th></th>\n",
       "      <th></th>\n",
       "      <th></th>\n",
       "      <th></th>\n",
       "      <th></th>\n",
       "      <th></th>\n",
       "      <th></th>\n",
       "      <th></th>\n",
       "      <th></th>\n",
       "      <th></th>\n",
       "      <th></th>\n",
       "      <th></th>\n",
       "    </tr>\n",
       "  </thead>\n",
       "  <tbody>\n",
       "    <tr>\n",
       "      <th>-9221399504663603656</th>\n",
       "      <td>954</td>\n",
       "      <td></td>\n",
       "      <td>4.915094</td>\n",
       "      <td>3.920291</td>\n",
       "      <td>4</td>\n",
       "      <td></td>\n",
       "      <td>UzRu – миры общения</td>\n",
       "      <td>4</td>\n",
       "      <td>0</td>\n",
       "      <td>0</td>\n",
       "      <td>3.271186</td>\n",
       "      <td>0</td>\n",
       "    </tr>\n",
       "    <tr>\n",
       "      <th>-9216163564171210203</th>\n",
       "      <td>522</td>\n",
       "      <td></td>\n",
       "      <td>5.241379</td>\n",
       "      <td>3.535873</td>\n",
       "      <td>4</td>\n",
       "      <td></td>\n",
       "      <td>Фамилия Шушмарченко - французские фамилии</td>\n",
       "      <td>5</td>\n",
       "      <td>0</td>\n",
       "      <td>0</td>\n",
       "      <td>2.000000</td>\n",
       "      <td>1</td>\n",
       "    </tr>\n",
       "    <tr>\n",
       "      <th>-9200554234989740212</th>\n",
       "      <td>388</td>\n",
       "      <td></td>\n",
       "      <td>6.051546</td>\n",
       "      <td>3.764664</td>\n",
       "      <td>4</td>\n",
       "      <td></td>\n",
       "      <td>Управление Роспотребнадзора по Нижегородской о...</td>\n",
       "      <td>5</td>\n",
       "      <td>0</td>\n",
       "      <td>0</td>\n",
       "      <td>2.600000</td>\n",
       "      <td>0</td>\n",
       "    </tr>\n",
       "    <tr>\n",
       "      <th>-9209767567868339114</th>\n",
       "      <td>403</td>\n",
       "      <td></td>\n",
       "      <td>4.945409</td>\n",
       "      <td>2.126263</td>\n",
       "      <td>4</td>\n",
       "      <td>СИСКИ СИЛИКОН</td>\n",
       "      <td>СИСКИ СИЛИКОН</td>\n",
       "      <td>2</td>\n",
       "      <td>2</td>\n",
       "      <td>0</td>\n",
       "      <td>0.000000</td>\n",
       "      <td>1</td>\n",
       "    </tr>\n",
       "    <tr>\n",
       "      <th>-9210905935710158021</th>\n",
       "      <td>464</td>\n",
       "      <td></td>\n",
       "      <td>5.252155</td>\n",
       "      <td>2.833565</td>\n",
       "      <td>4</td>\n",
       "      <td>Натиск с закрытие обезобразил на меня, выпер с...</td>\n",
       "      <td>Скачать GFI MailSecurity for Exchange SMTP v8.1</td>\n",
       "      <td>7</td>\n",
       "      <td>49</td>\n",
       "      <td>0</td>\n",
       "      <td>4.653846</td>\n",
       "      <td>1</td>\n",
       "    </tr>\n",
       "  </tbody>\n",
       "</table>\n",
       "</div>"
      ],
      "text/plain": [
       "                     words keywords  average_len_words      gzip url_len  \\\n",
       "id                                                                         \n",
       "-9221399504663603656   954                    4.915094  3.920291       4   \n",
       "-9216163564171210203   522                    5.241379  3.535873       4   \n",
       "-9200554234989740212   388                    6.051546  3.764664       4   \n",
       "-9209767567868339114   403                    4.945409  2.126263       4   \n",
       "-9210905935710158021   464                    5.252155  2.833565       4   \n",
       "\n",
       "                                                            description  \\\n",
       "id                                                                        \n",
       "-9221399504663603656                                                      \n",
       "-9216163564171210203                                                      \n",
       "-9200554234989740212                                                      \n",
       "-9209767567868339114                                      СИСКИ СИЛИКОН   \n",
       "-9210905935710158021  Натиск с закрытие обезобразил на меня, выпер с...   \n",
       "\n",
       "                                                                  title  \\\n",
       "id                                                                        \n",
       "-9221399504663603656                                UzRu – миры общения   \n",
       "-9216163564171210203          Фамилия Шушмарченко - французские фамилии   \n",
       "-9200554234989740212  Управление Роспотребнадзора по Нижегородской о...   \n",
       "-9209767567868339114                                      СИСКИ СИЛИКОН   \n",
       "-9210905935710158021    Скачать GFI MailSecurity for Exchange SMTP v8.1   \n",
       "\n",
       "                     title_len description_len keywords_len  average_ancors  \\\n",
       "id                                                                            \n",
       "-9221399504663603656         4               0            0        3.271186   \n",
       "-9216163564171210203         5               0            0        2.000000   \n",
       "-9200554234989740212         5               0            0        2.600000   \n",
       "-9209767567868339114         2               2            0        0.000000   \n",
       "-9210905935710158021         7              49            0        4.653846   \n",
       "\n",
       "                     target  \n",
       "id                           \n",
       "-9221399504663603656      0  \n",
       "-9216163564171210203      1  \n",
       "-9200554234989740212      0  \n",
       "-9209767567868339114      1  \n",
       "-9210905935710158021      1  "
      ]
     },
     "execution_count": 4,
     "metadata": {},
     "output_type": "execute_result"
    }
   ],
   "source": [
    "df = pd.DataFrame(columns=['id','words','keywords','average_len_words','gzip',\n",
    "                           'url_len','description','title','title_len',\n",
    "                           'description_len', 'keywords_len','average_ancors', 'target'])\n",
    "df = load_obj('features')\n",
    "df.head()"
   ]
  },
  {
   "cell_type": "markdown",
   "metadata": {},
   "source": [
    "### Cчитаем фичи в мультрипроцесс режиме"
   ]
  },
  {
   "cell_type": "code",
   "execution_count": null,
   "metadata": {
    "ExecuteTime": {
     "end_time": "2020-10-06T16:22:50.225525Z",
     "start_time": "2020-10-06T16:08:46.976776Z"
    }
   },
   "outputs": [],
   "source": [
    "%%time\n",
    "for item in tqdm(read_data_frame_multiprocess(train_df,calculate_all_features_multiprocess)):\n",
    "    df = df.append((lambda d: d.update({'id':item[0], 'target':item[1]}) or d)(item[2]),ignore_index=True)\n",
    "df.set_index('id',inplace=True)\n",
    "df.sort_index(inplace=True)"
   ]
  },
  {
   "cell_type": "code",
   "execution_count": null,
   "metadata": {
    "ExecuteTime": {
     "end_time": "2020-10-06T20:37:16.006850Z",
     "start_time": "2020-10-06T20:37:15.954429Z"
    }
   },
   "outputs": [],
   "source": [
    "#df.drop('average_ancors',axis=1,inplace=True)\n",
    "df.sort_index(inplace=True)\n",
    "df.head()"
   ]
  },
  {
   "cell_type": "code",
   "execution_count": null,
   "metadata": {
    "ExecuteTime": {
     "end_time": "2020-10-06T18:22:20.517891Z",
     "start_time": "2020-10-06T18:22:20.493986Z"
    }
   },
   "outputs": [],
   "source": [
    "train_df.head()"
   ]
  },
  {
   "cell_type": "code",
   "execution_count": null,
   "metadata": {
    "ExecuteTime": {
     "end_time": "2020-10-06T18:12:13.202134Z",
     "start_time": "2020-10-06T18:00:12.823277Z"
    }
   },
   "outputs": [],
   "source": [
    "%%time\n",
    "#Добавить фичу к уже существующему датафрейму\n",
    "feature_names = ['average_ancors']\n",
    "tmp_df = pd.DataFrame(columns=feature_names+['id'])\n",
    "tmp_df.astype({'id': 'int64'})\n",
    "\n",
    "for item in tqdm(read_data_frame_multiprocess(train_df,calculate_all_features_multiprocess)):\n",
    "    tmp_df = tmp_df.append((lambda d: d.update({'id':np.int64(item[0])}) or d)(item[2]),ignore_index=True)\n",
    "tmp_df.set_index('id', inplace=True)\n",
    "df.loc[tmp_df.index, feature_names] = tmp_df[feature_names]"
   ]
  },
  {
   "cell_type": "markdown",
   "metadata": {},
   "source": [
    "### Tfidf эмбединги"
   ]
  },
  {
   "cell_type": "code",
   "execution_count": 55,
   "metadata": {
    "ExecuteTime": {
     "end_time": "2020-10-07T11:07:08.847844Z",
     "start_time": "2020-10-07T11:05:33.404074Z"
    }
   },
   "outputs": [],
   "source": [
    "words = map(lambda x: html2word(x,to_text=html2text_parser, tokenizer=pymorphy_tokenizer), train_df.text )\n",
    "words = [list(i) for i in words]\n",
    "words = [' '.join(text) for text in words]"
   ]
  },
  {
   "cell_type": "code",
   "execution_count": 56,
   "metadata": {
    "ExecuteTime": {
     "end_time": "2020-10-07T11:07:26.209862Z",
     "start_time": "2020-10-07T11:07:08.852155Z"
    },
    "code_folding": []
   },
   "outputs": [],
   "source": [
    "vectorizer = TfidfVectorizer()\n",
    "tokens = vectorizer.fit_transform(words)"
   ]
  },
  {
   "cell_type": "code",
   "execution_count": 14,
   "metadata": {
    "ExecuteTime": {
     "end_time": "2020-10-07T10:24:15.700637Z",
     "start_time": "2020-10-07T10:24:07.421156Z"
    }
   },
   "outputs": [],
   "source": [
    "save_obj(vectorizer,'vectorizer')\n",
    "save_obj(tokens,'tokens')"
   ]
  },
  {
   "cell_type": "code",
   "execution_count": null,
   "metadata": {
    "ExecuteTime": {
     "end_time": "2020-10-07T09:10:12.546309Z",
     "start_time": "2020-10-07T09:10:10.035463Z"
    }
   },
   "outputs": [],
   "source": [
    "tokens = load_obj('tokens')"
   ]
  },
  {
   "cell_type": "code",
   "execution_count": null,
   "metadata": {
    "ExecuteTime": {
     "end_time": "2020-10-06T19:32:08.788699Z",
     "start_time": "2020-10-06T19:32:08.767102Z"
    }
   },
   "outputs": [],
   "source": [
    "sum_idfs = tokens * vectorizer.idf_"
   ]
  },
  {
   "cell_type": "code",
   "execution_count": null,
   "metadata": {
    "ExecuteTime": {
     "end_time": "2020-10-06T19:32:09.777252Z",
     "start_time": "2020-10-06T19:32:09.769597Z"
    }
   },
   "outputs": [],
   "source": [
    "sum_idfs.shape"
   ]
  },
  {
   "cell_type": "code",
   "execution_count": null,
   "metadata": {
    "ExecuteTime": {
     "end_time": "2020-10-06T18:57:39.104774Z",
     "start_time": "2020-10-06T18:57:36.804714Z"
    }
   },
   "outputs": [],
   "source": [
    "idf = vectorizer.idf_\n",
    "idf.shape\n",
    "word2idf = dict(zip(vectorizer.get_feature_names(), idf))"
   ]
  },
  {
   "cell_type": "markdown",
   "metadata": {},
   "source": [
    "### Уменьшаем размерность эмбедингов и стакаем с обычными фичами"
   ]
  },
  {
   "cell_type": "code",
   "execution_count": 57,
   "metadata": {
    "ExecuteTime": {
     "end_time": "2020-10-07T11:07:59.210848Z",
     "start_time": "2020-10-07T11:07:26.215131Z"
    }
   },
   "outputs": [
    {
     "data": {
      "text/plain": [
       "(7044, 120)"
      ]
     },
     "execution_count": 57,
     "metadata": {},
     "output_type": "execute_result"
    }
   ],
   "source": [
    "from sklearn.decomposition import TruncatedSVD\n",
    "pca = TruncatedSVD(120)\n",
    "i = pca.fit_transform(tokens)\n",
    "i.shape"
   ]
  },
  {
   "cell_type": "code",
   "execution_count": 58,
   "metadata": {
    "ExecuteTime": {
     "end_time": "2020-10-07T11:07:59.279114Z",
     "start_time": "2020-10-07T11:07:59.215723Z"
    }
   },
   "outputs": [
    {
     "data": {
      "text/plain": [
       "(7044, 124)"
      ]
     },
     "execution_count": 58,
     "metadata": {},
     "output_type": "execute_result"
    }
   ],
   "source": [
    "from scipy.sparse import  hstack\n",
    "from scipy.sparse import  vstack\n",
    "features = ['words', 'gzip', 'url_len', 'average_ancors']#,'url_len']#,'average_len_words']#,'gzip','url_len','description','title','title_len', 'description_len', 'keywords_len','average_ancors'\n",
    "\n",
    "j=np.hstack((df[features].astype(np.float64).to_numpy(), i))\n",
    "j.shape"
   ]
  },
  {
   "cell_type": "markdown",
   "metadata": {},
   "source": [
    "### Валидация"
   ]
  },
  {
   "cell_type": "code",
   "execution_count": 59,
   "metadata": {
    "ExecuteTime": {
     "end_time": "2020-10-07T11:08:33.678096Z",
     "start_time": "2020-10-07T11:07:59.285519Z"
    }
   },
   "outputs": [
    {
     "name": "stdout",
     "output_type": "stream",
     "text": [
      "[0.95669311 0.97532247 0.96765056 0.97275065 0.97447496 0.976992  ] \n",
      "0.9706472900932065\n"
     ]
    }
   ],
   "source": [
    "#в этом нотбуке использовалась f1 score c параметром macro а нужно weighted\n",
    "\n",
    "classifier = RandomForestClassifier(n_jobs=7,n_estimators=250)\n",
    "scores = cross_val_score(classifier, j, train_df.target.to_numpy().astype(int), cv=6,scoring=make_scorer(f1_score,average='weighted'))\n",
    "print scores, '\\n',sum(scores)/len(scores)"
   ]
  },
  {
   "cell_type": "markdown",
   "metadata": {},
   "source": [
    "0.9565221196385667 - tokens\n",
    "0.9727792805130523 - 250 estimators\n",
    "0.9710775090356355 - same with 200 estimators\n",
    "0.970941639836422  - 120 + gzip + words + url_len + average_ancors\n",
    "0.9699442681988497 - 120 + gzip + words + url_len\n",
    "0.9695210149664191 - 120 + gzip + words + url_len + average_ancors + title_len\n",
    "0.9672591168898971 - 120 + gzip + words\n",
    "0.9659827534897168 - 120 + gzip \n",
    "0.9641433078125351 - 120 + words\n",
    "0.9634337111315477 - 120\n",
    "0.9618760409238547 - 150\n",
    "0.9614551945239952 - 100\n",
    "0.9610279311204936 - 90\n",
    "0.961164178439797  - 80\n",
    "0.9579129413897044 - 50 "
   ]
  },
  {
   "cell_type": "code",
   "execution_count": 60,
   "metadata": {
    "ExecuteTime": {
     "end_time": "2020-10-07T11:08:38.466731Z",
     "start_time": "2020-10-07T11:08:33.684518Z"
    }
   },
   "outputs": [
    {
     "data": {
      "text/plain": [
       "RandomForestClassifier(bootstrap=True, class_weight=None, criterion='gini',\n",
       "            max_depth=None, max_features='auto', max_leaf_nodes=None,\n",
       "            min_impurity_decrease=0.0, min_impurity_split=None,\n",
       "            min_samples_leaf=1, min_samples_split=2,\n",
       "            min_weight_fraction_leaf=0.0, n_estimators=250, n_jobs=7,\n",
       "            oob_score=False, random_state=None, verbose=0,\n",
       "            warm_start=False)"
      ]
     },
     "execution_count": 60,
     "metadata": {},
     "output_type": "execute_result"
    }
   ],
   "source": [
    "classifier = RandomForestClassifier(n_jobs=7,n_estimators=250)\n",
    "#train = df[['words','url_len','description_len','keywords_len','title_len','average_len_words', 'gzip','average_ancors']].to_numpy()\n",
    "classifier.fit(j, train_df.target.to_numpy().astype(np.int))"
   ]
  },
  {
   "cell_type": "code",
   "execution_count": null,
   "metadata": {
    "ExecuteTime": {
     "end_time": "2020-10-07T09:12:32.388348Z",
     "start_time": "2020-10-07T09:12:31.972635Z"
    }
   },
   "outputs": [],
   "source": [
    "save_obj(classifier,'classifier')"
   ]
  },
  {
   "cell_type": "markdown",
   "metadata": {},
   "source": [
    "### Сабмит"
   ]
  },
  {
   "cell_type": "code",
   "execution_count": null,
   "metadata": {
    "ExecuteTime": {
     "end_time": "2020-10-07T09:12:44.279445Z",
     "start_time": "2020-10-07T09:12:35.965820Z"
    }
   },
   "outputs": [],
   "source": [
    "classifier = load_obj('classifier')\n",
    "vectorizer = load_obj('vectorizer')"
   ]
  },
  {
   "cell_type": "code",
   "execution_count": 61,
   "metadata": {
    "ExecuteTime": {
     "end_time": "2020-10-07T11:09:50.868879Z",
     "start_time": "2020-10-07T11:08:38.474556Z"
    }
   },
   "outputs": [
    {
     "name": "stdout",
     "output_type": "stream",
     "text": [
      "CPU times: user 16.5 s, sys: 1.48 s, total: 18 s\n",
      "Wall time: 1min 11s\n"
     ]
    }
   ],
   "source": [
    "%%time\n",
    "test_DATA_FILE  = 'kaggle_test_data_tab.csv.gz'\n",
    "\n",
    "test_df = pd.read_csv('kaggle_test_data_tab.csv',sep = '\\t',usecols=['Id' ,'Url','PageBase64'])\n",
    "test_df['PageBase64']= test_df['PageBase64'].apply(lambda row: base64.b64decode(row))\n",
    "test_df.rename(columns={'PageBase64':'text', 'Prediction':'target','Url':'url','Id':'id' },inplace=True)\n",
    "test_df['target'] = 0\n"
   ]
  },
  {
   "cell_type": "code",
   "execution_count": null,
   "metadata": {
    "ExecuteTime": {
     "end_time": "2020-10-06T21:55:51.492056Z",
     "start_time": "2020-10-06T21:55:51.199253Z"
    }
   },
   "outputs": [],
   "source": [
    "test_df.head()"
   ]
  },
  {
   "cell_type": "code",
   "execution_count": null,
   "metadata": {
    "ExecuteTime": {
     "end_time": "2020-10-07T08:13:52.669891Z",
     "start_time": "2020-10-07T08:13:52.659352Z"
    }
   },
   "outputs": [],
   "source": [
    "df = pd.DataFrame(columns=['id','words','keywords','average_len_words','gzip',\n",
    "                           'url_len','description','title','title_len',\n",
    "                           'description_len', 'keywords_len','average_ancors', 'target'])\n",
    "#df = load_obj('features')"
   ]
  },
  {
   "cell_type": "code",
   "execution_count": null,
   "metadata": {
    "ExecuteTime": {
     "end_time": "2020-10-07T08:44:16.090647Z",
     "start_time": "2020-10-07T08:13:52.673779Z"
    }
   },
   "outputs": [],
   "source": [
    "%%time\n",
    "for item in tqdm(read_data_frame_multiprocess(test_df,calculate_all_features_multiprocess)):\n",
    "    df = df.append((lambda d: d.update({'id':np.int64(item[0]), 'target':item[1]}) or d)(item[2]),ignore_index=True)\n",
    "df.set_index('id',inplace=True)\n",
    "df.sort_index(inplace=True)\n",
    "test_df.set_index('id',inplace=True)\n",
    "test_df.sort_index(inplace=True)"
   ]
  },
  {
   "cell_type": "code",
   "execution_count": null,
   "metadata": {
    "ExecuteTime": {
     "end_time": "2020-10-07T08:46:38.278820Z",
     "start_time": "2020-10-07T08:46:36.527020Z"
    }
   },
   "outputs": [],
   "source": [
    "save_obj(df,'test_features')"
   ]
  },
  {
   "cell_type": "code",
   "execution_count": 62,
   "metadata": {
    "ExecuteTime": {
     "end_time": "2020-10-07T11:09:52.194003Z",
     "start_time": "2020-10-07T11:09:50.926183Z"
    }
   },
   "outputs": [],
   "source": [
    "df = load_obj('test_features')\n",
    "#df.set_index('id',inplace=True)\n",
    "df.sort_index(inplace=True)"
   ]
  },
  {
   "cell_type": "code",
   "execution_count": 63,
   "metadata": {
    "ExecuteTime": {
     "end_time": "2020-10-07T11:09:53.205784Z",
     "start_time": "2020-10-07T11:09:52.198206Z"
    }
   },
   "outputs": [
    {
     "data": {
      "text/html": [
       "<div>\n",
       "<style scoped>\n",
       "    .dataframe tbody tr th:only-of-type {\n",
       "        vertical-align: middle;\n",
       "    }\n",
       "\n",
       "    .dataframe tbody tr th {\n",
       "        vertical-align: top;\n",
       "    }\n",
       "\n",
       "    .dataframe thead th {\n",
       "        text-align: right;\n",
       "    }\n",
       "</style>\n",
       "<table border=\"1\" class=\"dataframe\">\n",
       "  <thead>\n",
       "    <tr style=\"text-align: right;\">\n",
       "      <th></th>\n",
       "      <th>words</th>\n",
       "      <th>keywords</th>\n",
       "      <th>average_len_words</th>\n",
       "      <th>gzip</th>\n",
       "      <th>url_len</th>\n",
       "      <th>description</th>\n",
       "      <th>title</th>\n",
       "      <th>title_len</th>\n",
       "      <th>description_len</th>\n",
       "      <th>keywords_len</th>\n",
       "      <th>average_ancors</th>\n",
       "      <th>target</th>\n",
       "    </tr>\n",
       "    <tr>\n",
       "      <th>id</th>\n",
       "      <th></th>\n",
       "      <th></th>\n",
       "      <th></th>\n",
       "      <th></th>\n",
       "      <th></th>\n",
       "      <th></th>\n",
       "      <th></th>\n",
       "      <th></th>\n",
       "      <th></th>\n",
       "      <th></th>\n",
       "      <th></th>\n",
       "      <th></th>\n",
       "    </tr>\n",
       "  </thead>\n",
       "  <tbody>\n",
       "    <tr>\n",
       "      <th>-9219333997282093076</th>\n",
       "      <td>869</td>\n",
       "      <td>Игорь знакомства нижневартовск, самый лучший с...</td>\n",
       "      <td>5.589183</td>\n",
       "      <td>2.961314</td>\n",
       "      <td>4</td>\n",
       "      <td>Игорь знакомства нижневартовск, самый лучший с...</td>\n",
       "      <td>Игорь знакомства нижневартовск, самый лучший с...</td>\n",
       "      <td>9</td>\n",
       "      <td>9</td>\n",
       "      <td>9</td>\n",
       "      <td>3.478261</td>\n",
       "      <td>0</td>\n",
       "    </tr>\n",
       "    <tr>\n",
       "      <th>-9216796593526314243</th>\n",
       "      <td>781</td>\n",
       "      <td></td>\n",
       "      <td>5.034571</td>\n",
       "      <td>2.689573</td>\n",
       "      <td>4</td>\n",
       "      <td>Оригинальное разрешение Вы скачать клипы татар...</td>\n",
       "      <td>Скачать клипы татарские новые бесплатно</td>\n",
       "      <td>5</td>\n",
       "      <td>21</td>\n",
       "      <td>0</td>\n",
       "      <td>2.028571</td>\n",
       "      <td>0</td>\n",
       "    </tr>\n",
       "    <tr>\n",
       "      <th>-9216634615606576667</th>\n",
       "      <td>606</td>\n",
       "      <td></td>\n",
       "      <td>5.127063</td>\n",
       "      <td>3.150769</td>\n",
       "      <td>6</td>\n",
       "      <td></td>\n",
       "      <td>От автора / Награды / Фестиваль педагогических...</td>\n",
       "      <td>13</td>\n",
       "      <td>0</td>\n",
       "      <td>0</td>\n",
       "      <td>1.615385</td>\n",
       "      <td>0</td>\n",
       "    </tr>\n",
       "    <tr>\n",
       "      <th>-9215626373068452590</th>\n",
       "      <td>4013</td>\n",
       "      <td>синастрия</td>\n",
       "      <td>6.039870</td>\n",
       "      <td>5.172838</td>\n",
       "      <td>4</td>\n",
       "      <td>Что такое синастрия.</td>\n",
       "      <td>Совместимость по дате рождения</td>\n",
       "      <td>4</td>\n",
       "      <td>3</td>\n",
       "      <td>1</td>\n",
       "      <td>1.566667</td>\n",
       "      <td>0</td>\n",
       "    </tr>\n",
       "    <tr>\n",
       "      <th>-9215403080479774736</th>\n",
       "      <td>722</td>\n",
       "      <td>телефонный справочник нижнего -новгорода</td>\n",
       "      <td>6.058172</td>\n",
       "      <td>3.321940</td>\n",
       "      <td>5</td>\n",
       "      <td>Это один из телефонный справочник нижнего -нов...</td>\n",
       "      <td>Телефонный справочник нижнего -новгорода | роз...</td>\n",
       "      <td>7</td>\n",
       "      <td>26</td>\n",
       "      <td>4</td>\n",
       "      <td>4.272727</td>\n",
       "      <td>0</td>\n",
       "    </tr>\n",
       "  </tbody>\n",
       "</table>\n",
       "</div>"
      ],
      "text/plain": [
       "                     words                                           keywords  \\\n",
       "id                                                                              \n",
       "-9219333997282093076   869  Игорь знакомства нижневартовск, самый лучший с...   \n",
       "-9216796593526314243   781                                                      \n",
       "-9216634615606576667   606                                                      \n",
       "-9215626373068452590  4013                                         синастрия    \n",
       "-9215403080479774736   722           телефонный справочник нижнего -новгорода   \n",
       "\n",
       "                      average_len_words      gzip url_len  \\\n",
       "id                                                          \n",
       "-9219333997282093076           5.589183  2.961314       4   \n",
       "-9216796593526314243           5.034571  2.689573       4   \n",
       "-9216634615606576667           5.127063  3.150769       6   \n",
       "-9215626373068452590           6.039870  5.172838       4   \n",
       "-9215403080479774736           6.058172  3.321940       5   \n",
       "\n",
       "                                                            description  \\\n",
       "id                                                                        \n",
       "-9219333997282093076  Игорь знакомства нижневартовск, самый лучший с...   \n",
       "-9216796593526314243  Оригинальное разрешение Вы скачать клипы татар...   \n",
       "-9216634615606576667                                                      \n",
       "-9215626373068452590                              Что такое синастрия.    \n",
       "-9215403080479774736  Это один из телефонный справочник нижнего -нов...   \n",
       "\n",
       "                                                                  title  \\\n",
       "id                                                                        \n",
       "-9219333997282093076  Игорь знакомства нижневартовск, самый лучший с...   \n",
       "-9216796593526314243            Скачать клипы татарские новые бесплатно   \n",
       "-9216634615606576667  От автора / Награды / Фестиваль педагогических...   \n",
       "-9215626373068452590                     Совместимость по дате рождения   \n",
       "-9215403080479774736  Телефонный справочник нижнего -новгорода | роз...   \n",
       "\n",
       "                     title_len description_len keywords_len  average_ancors  \\\n",
       "id                                                                            \n",
       "-9219333997282093076         9               9            9        3.478261   \n",
       "-9216796593526314243         5              21            0        2.028571   \n",
       "-9216634615606576667        13               0            0        1.615385   \n",
       "-9215626373068452590         4               3            1        1.566667   \n",
       "-9215403080479774736         7              26            4        4.272727   \n",
       "\n",
       "                     target  \n",
       "id                           \n",
       "-9219333997282093076      0  \n",
       "-9216796593526314243      0  \n",
       "-9216634615606576667      0  \n",
       "-9215626373068452590      0  \n",
       "-9215403080479774736      0  "
      ]
     },
     "execution_count": 63,
     "metadata": {},
     "output_type": "execute_result"
    }
   ],
   "source": [
    "df.head()"
   ]
  },
  {
   "cell_type": "code",
   "execution_count": 46,
   "metadata": {
    "ExecuteTime": {
     "end_time": "2020-10-07T10:57:44.959599Z",
     "start_time": "2020-10-07T10:57:44.814056Z"
    }
   },
   "outputs": [],
   "source": [
    "test_df.set_index('id',inplace=True)\n",
    "test_df.sort_index(inplace=True)"
   ]
  },
  {
   "cell_type": "code",
   "execution_count": 64,
   "metadata": {
    "ExecuteTime": {
     "end_time": "2020-10-07T11:13:38.581602Z",
     "start_time": "2020-10-07T11:09:53.211093Z"
    }
   },
   "outputs": [],
   "source": [
    "words = map(lambda x: html2word(x,to_text=html2text_parser, tokenizer=pymorphy_tokenizer), test_df.text )\n",
    "words = [list(i) for i in words]\n",
    "words = [' '.join(text) for text in words]"
   ]
  },
  {
   "cell_type": "code",
   "execution_count": null,
   "metadata": {
    "ExecuteTime": {
     "end_time": "2020-10-07T08:53:44.925649Z",
     "start_time": "2020-10-07T08:53:39.401953Z"
    }
   },
   "outputs": [],
   "source": [
    "save_obj(words,'words')"
   ]
  },
  {
   "cell_type": "code",
   "execution_count": null,
   "metadata": {
    "ExecuteTime": {
     "end_time": "2020-10-07T09:13:03.327138Z",
     "start_time": "2020-10-07T09:12:54.162604Z"
    }
   },
   "outputs": [],
   "source": [
    "words = load_obj('words')\n"
   ]
  },
  {
   "cell_type": "code",
   "execution_count": null,
   "metadata": {
    "ExecuteTime": {
     "end_time": "2020-10-07T09:21:18.830036Z",
     "start_time": "2020-10-07T09:21:18.823975Z"
    }
   },
   "outputs": [],
   "source": [
    "print(words[1])"
   ]
  },
  {
   "cell_type": "code",
   "execution_count": 65,
   "metadata": {
    "ExecuteTime": {
     "end_time": "2020-10-07T11:14:04.648288Z",
     "start_time": "2020-10-07T11:13:38.585768Z"
    }
   },
   "outputs": [],
   "source": [
    "tokens = vectorizer.transform(words)"
   ]
  },
  {
   "cell_type": "code",
   "execution_count": null,
   "metadata": {
    "ExecuteTime": {
     "end_time": "2020-10-07T09:17:32.372246Z",
     "start_time": "2020-10-07T09:17:32.365420Z"
    }
   },
   "outputs": [],
   "source": [
    "tokens"
   ]
  },
  {
   "cell_type": "code",
   "execution_count": 66,
   "metadata": {
    "ExecuteTime": {
     "end_time": "2020-10-07T11:14:05.954101Z",
     "start_time": "2020-10-07T11:14:04.652252Z"
    }
   },
   "outputs": [
    {
     "data": {
      "text/plain": [
       "(16039, 120)"
      ]
     },
     "execution_count": 66,
     "metadata": {},
     "output_type": "execute_result"
    }
   ],
   "source": [
    "#pca = TruncatedSVD(120)\n",
    "i = pca.transform(tokens)\n",
    "i.shape"
   ]
  },
  {
   "cell_type": "code",
   "execution_count": null,
   "metadata": {
    "ExecuteTime": {
     "end_time": "2020-10-07T09:06:15.721848Z",
     "start_time": "2020-10-07T09:06:15.663201Z"
    }
   },
   "outputs": [],
   "source": [
    "test_df.head()"
   ]
  },
  {
   "cell_type": "code",
   "execution_count": null,
   "metadata": {
    "ExecuteTime": {
     "end_time": "2020-10-07T09:06:24.217398Z",
     "start_time": "2020-10-07T09:06:24.089727Z"
    }
   },
   "outputs": [],
   "source": [
    "df.head()"
   ]
  },
  {
   "cell_type": "code",
   "execution_count": 73,
   "metadata": {
    "ExecuteTime": {
     "end_time": "2020-10-07T11:20:45.590120Z",
     "start_time": "2020-10-07T11:20:45.583750Z"
    }
   },
   "outputs": [],
   "source": [
    "test_df.set_index('id',inplace=True)\n",
    "test_df.sort_index(inplace=True)"
   ]
  },
  {
   "cell_type": "code",
   "execution_count": 67,
   "metadata": {
    "ExecuteTime": {
     "end_time": "2020-10-07T11:14:06.009248Z",
     "start_time": "2020-10-07T11:14:05.958475Z"
    }
   },
   "outputs": [
    {
     "data": {
      "text/plain": [
       "(16039, 124)"
      ]
     },
     "execution_count": 67,
     "metadata": {},
     "output_type": "execute_result"
    }
   ],
   "source": [
    "from scipy.sparse import  hstack\n",
    "from scipy.sparse import  vstack\n",
    "features = ['words', 'gzip', 'url_len', 'average_ancors']#,'url_len']#,'average_len_words']#,'gzip','url_len','description','title','title_len', 'description_len', 'keywords_len','average_ancors'\n",
    "\n",
    "j=np.hstack((df[features].astype(np.float64).to_numpy(), i))\n",
    "j.shape"
   ]
  },
  {
   "cell_type": "code",
   "execution_count": 32,
   "metadata": {
    "ExecuteTime": {
     "end_time": "2020-10-07T10:43:05.322783Z",
     "start_time": "2020-10-07T10:43:05.318701Z"
    }
   },
   "outputs": [],
   "source": [
    "i = tokens"
   ]
  },
  {
   "cell_type": "code",
   "execution_count": 33,
   "metadata": {
    "ExecuteTime": {
     "end_time": "2020-10-07T10:43:05.521227Z",
     "start_time": "2020-10-07T10:43:05.327192Z"
    }
   },
   "outputs": [],
   "source": [
    "df = test_df['url']\n",
    "df.sort_index(inplace=True)"
   ]
  },
  {
   "cell_type": "code",
   "execution_count": 36,
   "metadata": {
    "ExecuteTime": {
     "end_time": "2020-10-07T10:49:05.665036Z",
     "start_time": "2020-10-07T10:49:05.657708Z"
    }
   },
   "outputs": [
    {
     "data": {
      "text/plain": [
       "pandas.core.series.Series"
      ]
     },
     "execution_count": 36,
     "metadata": {},
     "output_type": "execute_result"
    }
   ],
   "source": []
  },
  {
   "cell_type": "code",
   "execution_count": 74,
   "metadata": {
    "ExecuteTime": {
     "end_time": "2020-10-07T11:20:54.500141Z",
     "start_time": "2020-10-07T11:20:54.462221Z"
    }
   },
   "outputs": [],
   "source": [
    "#pred = classifier.predict(j)\n",
    "test_df['Prediction'] = pred\n",
    "#df.rename(columns={'id':'Id', 'target':'Prediction'},inplace=True)\n",
    "test_df.to_csv('my_submission2.csv',index=True,columns=['Prediction'])"
   ]
  },
  {
   "cell_type": "code",
   "execution_count": 75,
   "metadata": {
    "ExecuteTime": {
     "end_time": "2020-10-07T11:20:56.474007Z",
     "start_time": "2020-10-07T11:20:56.465176Z"
    }
   },
   "outputs": [
    {
     "data": {
      "text/plain": [
       "0.5133736517239229"
      ]
     },
     "execution_count": 75,
     "metadata": {},
     "output_type": "execute_result"
    }
   ],
   "source": [
    "pred.mean()"
   ]
  },
  {
   "cell_type": "code",
   "execution_count": null,
   "metadata": {
    "ExecuteTime": {
     "end_time": "2020-10-06T16:05:49.765521Z",
     "start_time": "2020-10-06T16:05:48.935060Z"
    }
   },
   "outputs": [],
   "source": [
    "pred = classifier.predict(\n",
    "df[['words','url_len','description_len','keywords_len','title_len','average_len_words', 'gzip','average_ancors']].to_numpy())\n",
    "test_df['target'] = pred\n",
    "df.rename(columns={'id':'Id', 'target':'Prediction'},inplace=True)\n",
    "df.to_csv('my_submission2.csv',index=False,columns=['Id','Prediction'])"
   ]
  },
  {
   "cell_type": "code",
   "execution_count": 76,
   "metadata": {
    "ExecuteTime": {
     "end_time": "2020-10-07T11:21:13.708420Z",
     "start_time": "2020-10-07T11:21:06.878984Z"
    }
   },
   "outputs": [
    {
     "name": "stdout",
     "output_type": "stream",
     "text": [
      "Warning: Your Kaggle API key is readable by other users on this system! To fix this, you can run 'chmod 600 /home/maksimka/.kaggle/kaggle.json'\n",
      "100%|████████████████████████████████████████| 351k/351k [00:05<00:00, 68.6kB/s]\n",
      "Successfully submitted to antispam_infopoisk"
     ]
    }
   ],
   "source": [
    "!kaggle competitions submit -c antispam-infopoisk -f my_submission2.csv -m \"tsidf embedings with pca and words, gzip, url_len, average_ancors\""
   ]
  },
  {
   "cell_type": "markdown",
   "metadata": {},
   "source": [
    "### Графики"
   ]
  },
  {
   "cell_type": "code",
   "execution_count": 4,
   "metadata": {
    "ExecuteTime": {
     "end_time": "2020-10-08T15:03:41.655881Z",
     "start_time": "2020-10-08T15:03:41.257872Z"
    }
   },
   "outputs": [
    {
     "data": {
      "text/html": [
       "<div>\n",
       "<style scoped>\n",
       "    .dataframe tbody tr th:only-of-type {\n",
       "        vertical-align: middle;\n",
       "    }\n",
       "\n",
       "    .dataframe tbody tr th {\n",
       "        vertical-align: top;\n",
       "    }\n",
       "\n",
       "    .dataframe thead th {\n",
       "        text-align: right;\n",
       "    }\n",
       "</style>\n",
       "<table border=\"1\" class=\"dataframe\">\n",
       "  <thead>\n",
       "    <tr style=\"text-align: right;\">\n",
       "      <th></th>\n",
       "      <th>words</th>\n",
       "      <th>keywords</th>\n",
       "      <th>average_len_words</th>\n",
       "      <th>gzip</th>\n",
       "      <th>url_len</th>\n",
       "      <th>description</th>\n",
       "      <th>title</th>\n",
       "      <th>title_len</th>\n",
       "      <th>description_len</th>\n",
       "      <th>keywords_len</th>\n",
       "      <th>average_ancors</th>\n",
       "      <th>target</th>\n",
       "    </tr>\n",
       "    <tr>\n",
       "      <th>id</th>\n",
       "      <th></th>\n",
       "      <th></th>\n",
       "      <th></th>\n",
       "      <th></th>\n",
       "      <th></th>\n",
       "      <th></th>\n",
       "      <th></th>\n",
       "      <th></th>\n",
       "      <th></th>\n",
       "      <th></th>\n",
       "      <th></th>\n",
       "      <th></th>\n",
       "    </tr>\n",
       "  </thead>\n",
       "  <tbody>\n",
       "    <tr>\n",
       "      <th>-9221399504663603656</th>\n",
       "      <td>954</td>\n",
       "      <td></td>\n",
       "      <td>4.915094</td>\n",
       "      <td>3.920291</td>\n",
       "      <td>4</td>\n",
       "      <td></td>\n",
       "      <td>UzRu – миры общения</td>\n",
       "      <td>4</td>\n",
       "      <td>0</td>\n",
       "      <td>0</td>\n",
       "      <td>3.271186</td>\n",
       "      <td>0</td>\n",
       "    </tr>\n",
       "    <tr>\n",
       "      <th>-9216163564171210203</th>\n",
       "      <td>522</td>\n",
       "      <td></td>\n",
       "      <td>5.241379</td>\n",
       "      <td>3.535873</td>\n",
       "      <td>4</td>\n",
       "      <td></td>\n",
       "      <td>Фамилия Шушмарченко - французские фамилии</td>\n",
       "      <td>5</td>\n",
       "      <td>0</td>\n",
       "      <td>0</td>\n",
       "      <td>2.000000</td>\n",
       "      <td>1</td>\n",
       "    </tr>\n",
       "    <tr>\n",
       "      <th>-9200554234989740212</th>\n",
       "      <td>388</td>\n",
       "      <td></td>\n",
       "      <td>6.051546</td>\n",
       "      <td>3.764664</td>\n",
       "      <td>4</td>\n",
       "      <td></td>\n",
       "      <td>Управление Роспотребнадзора по Нижегородской о...</td>\n",
       "      <td>5</td>\n",
       "      <td>0</td>\n",
       "      <td>0</td>\n",
       "      <td>2.600000</td>\n",
       "      <td>0</td>\n",
       "    </tr>\n",
       "    <tr>\n",
       "      <th>-9209767567868339114</th>\n",
       "      <td>403</td>\n",
       "      <td></td>\n",
       "      <td>4.945409</td>\n",
       "      <td>2.126263</td>\n",
       "      <td>4</td>\n",
       "      <td>СИСКИ СИЛИКОН</td>\n",
       "      <td>СИСКИ СИЛИКОН</td>\n",
       "      <td>2</td>\n",
       "      <td>2</td>\n",
       "      <td>0</td>\n",
       "      <td>0.000000</td>\n",
       "      <td>1</td>\n",
       "    </tr>\n",
       "    <tr>\n",
       "      <th>-9210905935710158021</th>\n",
       "      <td>464</td>\n",
       "      <td></td>\n",
       "      <td>5.252155</td>\n",
       "      <td>2.833565</td>\n",
       "      <td>4</td>\n",
       "      <td>Натиск с закрытие обезобразил на меня, выпер с...</td>\n",
       "      <td>Скачать GFI MailSecurity for Exchange SMTP v8.1</td>\n",
       "      <td>7</td>\n",
       "      <td>49</td>\n",
       "      <td>0</td>\n",
       "      <td>4.653846</td>\n",
       "      <td>1</td>\n",
       "    </tr>\n",
       "  </tbody>\n",
       "</table>\n",
       "</div>"
      ],
      "text/plain": [
       "                     words keywords  average_len_words      gzip url_len  \\\n",
       "id                                                                         \n",
       "-9221399504663603656   954                    4.915094  3.920291       4   \n",
       "-9216163564171210203   522                    5.241379  3.535873       4   \n",
       "-9200554234989740212   388                    6.051546  3.764664       4   \n",
       "-9209767567868339114   403                    4.945409  2.126263       4   \n",
       "-9210905935710158021   464                    5.252155  2.833565       4   \n",
       "\n",
       "                                                            description  \\\n",
       "id                                                                        \n",
       "-9221399504663603656                                                      \n",
       "-9216163564171210203                                                      \n",
       "-9200554234989740212                                                      \n",
       "-9209767567868339114                                      СИСКИ СИЛИКОН   \n",
       "-9210905935710158021  Натиск с закрытие обезобразил на меня, выпер с...   \n",
       "\n",
       "                                                                  title  \\\n",
       "id                                                                        \n",
       "-9221399504663603656                                UzRu – миры общения   \n",
       "-9216163564171210203          Фамилия Шушмарченко - французские фамилии   \n",
       "-9200554234989740212  Управление Роспотребнадзора по Нижегородской о...   \n",
       "-9209767567868339114                                      СИСКИ СИЛИКОН   \n",
       "-9210905935710158021    Скачать GFI MailSecurity for Exchange SMTP v8.1   \n",
       "\n",
       "                     title_len description_len keywords_len  average_ancors  \\\n",
       "id                                                                            \n",
       "-9221399504663603656         4               0            0        3.271186   \n",
       "-9216163564171210203         5               0            0        2.000000   \n",
       "-9200554234989740212         5               0            0        2.600000   \n",
       "-9209767567868339114         2               2            0        0.000000   \n",
       "-9210905935710158021         7              49            0        4.653846   \n",
       "\n",
       "                     target  \n",
       "id                           \n",
       "-9221399504663603656      0  \n",
       "-9216163564171210203      1  \n",
       "-9200554234989740212      0  \n",
       "-9209767567868339114      1  \n",
       "-9210905935710158021      1  "
      ]
     },
     "execution_count": 4,
     "metadata": {},
     "output_type": "execute_result"
    }
   ],
   "source": [
    "df = load_obj('features')\n",
    "df.head()"
   ]
  },
  {
   "cell_type": "code",
   "execution_count": 14,
   "metadata": {
    "ExecuteTime": {
     "end_time": "2020-10-08T15:05:54.493480Z",
     "start_time": "2020-10-08T15:05:52.043644Z"
    }
   },
   "outputs": [
    {
     "data": {
      "image/png": "[encoded data removed]",
      "text/plain": [
       "<Figure size 432x288 with 1 Axes>"
      ]
     },
     "metadata": {
      "needs_background": "light"
     },
     "output_type": "display_data"
    }
   ],
   "source": [
    "# колличество слов\n",
    "is_spam_data = [df[df.target == 1].words]\n",
    "not_spam_data = [df[df.target == 0].words]\n",
    "bins = np.arange(df.words.min(),3000,10)\n",
    "plt.hist(is_spam_data, bins=bins, color='red', normed=True, alpha=0.7, label='spam')\n",
    "plt.hist(not_spam_data, bins=bins, color='blue', normed=True, alpha=0.7, label='not_spam')\n",
    "plt.title('NumWords')\n",
    "plt.legend()\n",
    "plt.show()"
   ]
  },
  {
   "cell_type": "code",
   "execution_count": 17,
   "metadata": {
    "ExecuteTime": {
     "end_time": "2020-10-08T15:06:27.515357Z",
     "start_time": "2020-10-08T15:06:27.282699Z"
    }
   },
   "outputs": [
    {
     "data": {
      "image/png": "[encoded data removed]",
      "text/plain": [
       "<Figure size 432x288 with 1 Axes>"
      ]
     },
     "metadata": {
      "needs_background": "light"
     },
     "output_type": "display_data"
    }
   ],
   "source": [
    "# колличество слов в урле \n",
    "is_spam_data = [df[df.target == 1].url_len]\n",
    "not_spam_data = [df[df.target == 0].url_len]\n",
    "bins = np.arange(df.url_len.min(),df.url_len.max(),0.7)\n",
    "\n",
    "plt.hist(is_spam_data, bins=bins, color='red', normed=True, alpha=0.7, label='spam')\n",
    "plt.hist(not_spam_data, bins=bins, color='blue', normed=True, alpha=0.7, label='not_spam')\n",
    "plt.title('Url Len')\n",
    "plt.legend()\n",
    "plt.show()"
   ]
  },
  {
   "cell_type": "code",
   "execution_count": 29,
   "metadata": {
    "ExecuteTime": {
     "end_time": "2020-10-08T15:10:30.923492Z",
     "start_time": "2020-10-08T15:10:28.766876Z"
    }
   },
   "outputs": [
    {
     "data": {
      "image/png": "[encoded data removed]",
      "text/plain": [
       "<Figure size 432x288 with 1 Axes>"
      ]
     },
     "metadata": {
      "needs_background": "light"
     },
     "output_type": "display_data"
    }
   ],
   "source": [
    "# степень сжатия\n",
    "is_spam_data = [df[df.target == 1].gzip]\n",
    "not_spam_data = [df[df.target == 0].gzip]\n",
    "bins = np.arange(df.gzip.min(),10,0.05)\n",
    "\n",
    "plt.hist(is_spam_data, bins=bins, color='red', normed=True, alpha=0.7, label='spam')\n",
    "plt.hist(not_spam_data, bins=bins, color='blue', normed=True, alpha=0.7, label='not_spam')\n",
    "plt.title('Gzip compression')\n",
    "plt.legend()\n",
    "plt.show()"
   ]
  },
  {
   "cell_type": "code",
   "execution_count": 30,
   "metadata": {
    "ExecuteTime": {
     "end_time": "2020-10-08T15:10:37.381069Z",
     "start_time": "2020-10-08T15:10:36.170773Z"
    }
   },
   "outputs": [
    {
     "data": {
      "image/png": "[encoded data removed]",
      "text/plain": [
       "<Figure size 432x288 with 1 Axes>"
      ]
     },
     "metadata": {
      "needs_background": "light"
     },
     "output_type": "display_data"
    }
   ],
   "source": [
    "# длина названия \n",
    "is_spam_data = [df[df.target == 1].title_len]\n",
    "not_spam_data = [df[df.target == 0].title_len]\n",
    "bins = np.arange(df.title_len.min(),50,1)\n",
    "\n",
    "plt.hist(is_spam_data, bins=bins, color='red', normed=True, alpha=0.7, label='spam')\n",
    "plt.hist(not_spam_data, bins=bins, color='blue', normed=True, alpha=0.7, label='not_spam')\n",
    "plt.title('title len')\n",
    "plt.legend()\n",
    "plt.show()"
   ]
  },
  {
   "cell_type": "code",
   "execution_count": 36,
   "metadata": {
    "ExecuteTime": {
     "end_time": "2020-10-08T15:27:35.894508Z",
     "start_time": "2020-10-08T15:27:34.291851Z"
    }
   },
   "outputs": [
    {
     "data": {
      "image/png": "[encoded data removed]",
      "text/plain": [
       "<Figure size 432x288 with 1 Axes>"
      ]
     },
     "metadata": {
      "needs_background": "light"
     },
     "output_type": "display_data"
    }
   ],
   "source": [
    "# среднее колличество слов в анкорах сссылок \n",
    "is_spam_data = [df[df.target == 1].average_ancors]\n",
    "not_spam_data = [df[df.target == 0].average_ancors]\n",
    "bins = np.arange(df.average_ancors.min(),20,0.2)\n",
    "\n",
    "plt.hist(is_spam_data, bins=bins, color='red', normed=True, alpha=0.7, label='spam')\n",
    "plt.hist(not_spam_data, bins=bins, color='blue', normed=True, alpha=0.7, label='not_spam')\n",
    "plt.title('Avarage ancors number')\n",
    "plt.legend()\n",
    "plt.show()"
   ]
  },
  {
   "cell_type": "code",
   "execution_count": null,
   "metadata": {},
   "outputs": [],
   "source": []
  }
 ],
 "metadata": {
  "anaconda-cloud": {},
  "kernelspec": {
   "display_name": "Python [conda env:py27] *",
   "language": "python",
   "name": "conda-env-py27-py"
  },
  "language_info": {
   "codemirror_mode": {
    "name": "ipython",
    "version": 2
   },
   "file_extension": ".py",
   "mimetype": "text/x-python",
   "name": "python",
   "nbconvert_exporter": "python",
   "pygments_lexer": "ipython2",
   "version": "2.7.18"
  }
 },
 "nbformat": 4,
 "nbformat_minor": 1
}
